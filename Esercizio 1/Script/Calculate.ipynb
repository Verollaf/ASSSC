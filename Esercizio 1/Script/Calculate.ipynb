{
 "cells": [
  {
   "cell_type": "markdown",
   "metadata": {},
   "source": [
    "Importo le librerie"
   ]
  },
  {
   "cell_type": "code",
   "execution_count": 147,
   "metadata": {},
   "outputs": [],
   "source": [
    "import pandas as pd\n",
    "import numpy as np\n",
    "import statistics\n",
    "from datetime import datetime\n"
   ]
  },
  {
   "cell_type": "code",
   "execution_count": 148,
   "metadata": {},
   "outputs": [],
   "source": [
    "simName = \"100\""
   ]
  },
  {
   "cell_type": "markdown",
   "metadata": {},
   "source": [
    "Importo i dati"
   ]
  },
  {
   "cell_type": "code",
   "execution_count": 149,
   "metadata": {},
   "outputs": [],
   "source": [
    "dataRep1 = pd.read_csv('/Users/francescoverolla/Desktop/UNI/ASSSC/Esercizio 1/Test/test' + simName + '/RepCTT' + simName + '_1.csv')\n",
    "dataRep2 = pd.read_csv('/Users/francescoverolla/Desktop/UNI/ASSSC/Esercizio 1/Test/test' + simName + '/RepCTT' + simName + '_2.csv')\n",
    "dataRep3 = pd.read_csv('/Users/francescoverolla/Desktop/UNI/ASSSC/Esercizio 1/Test/test' + simName + '/RepCTT' + simName + '_3.csv')\n",
    "\n",
    "dataSim1 = pd.read_csv('/Users/francescoverolla/Desktop/UNI/ASSSC/Esercizio 1/Test/test' + simName + '/summary' + simName + '_1.csv')\n",
    "dataSim2 = pd.read_csv('/Users/francescoverolla/Desktop/UNI/ASSSC/Esercizio 1/Test/test' + simName + '/summary' + simName + '_2.csv')\n",
    "dataSim3 = pd.read_csv('/Users/francescoverolla/Desktop/UNI/ASSSC/Esercizio 1/Test/test' + simName + '/summary' + simName + '_3.csv')"
   ]
  },
  {
   "cell_type": "markdown",
   "metadata": {},
   "source": [
    "# Funzioni:"
   ]
  },
  {
   "cell_type": "markdown",
   "metadata": {},
   "source": [
    "Prendo i valori e calcolo la media"
   ]
  },
  {
   "cell_type": "code",
   "execution_count": 150,
   "metadata": {},
   "outputs": [],
   "source": [
    "def getValuesAndCalculateMeanAndSTD(columnName):\n",
    "    d1 = dataRep1[columnName].tolist()\n",
    "    d2 = dataRep2[columnName].tolist()\n",
    "    d3 = dataRep3[columnName].tolist()\n",
    "    allData = np.concatenate((d1,d2,d3))\n",
    "\n",
    "    return allData.mean(), allData.std()"
   ]
  },
  {
   "cell_type": "markdown",
   "metadata": {},
   "source": [
    "Cambio le virgole con i punti per fare il cast a float"
   ]
  },
  {
   "cell_type": "code",
   "execution_count": 151,
   "metadata": {},
   "outputs": [],
   "source": [
    "def swapCommaAndDots(str1):\n",
    "    str1 = str1.replace(',', '___')\n",
    "    str1 = str1.replace('.', ',')\n",
    "    str1 = str1.replace('___', '.')\n",
    "    return str1"
   ]
  },
  {
   "cell_type": "markdown",
   "metadata": {},
   "source": [
    "Prendo i totati dai risultati e ne calcolo le medie"
   ]
  },
  {
   "cell_type": "code",
   "execution_count": 152,
   "metadata": {},
   "outputs": [],
   "source": [
    "def getTotalsAndCalculateMean():\n",
    "    t1 = float(dataSim1.iloc[9, 7])\n",
    "    t2 = float(dataSim2.iloc[9, 7])\n",
    "    t3 = float(dataSim3.iloc[9, 7])\n",
    "    throughputs = [t1, t2, t3]\n",
    "    return statistics.mean(throughputs)"
   ]
  },
  {
   "cell_type": "markdown",
   "metadata": {},
   "source": [
    "Calcolo dell'elapsed Time"
   ]
  },
  {
   "cell_type": "code",
   "execution_count": 153,
   "metadata": {},
   "outputs": [],
   "source": [
    "def calculateDeltaTime():\n",
    "    e1 = dataRep1[\"timeStamp\"].tolist()\n",
    "    max = np.max(e1) / 1000\n",
    "    dt_max = datetime.fromtimestamp(max)\n",
    "    min = np.min(e1) / 1000\n",
    "    dt_min = datetime.fromtimestamp(min)\n",
    "    deltaTime = dt_max - dt_min\n",
    "    return deltaTime.total_seconds()\n"
   ]
  },
  {
   "cell_type": "code",
   "execution_count": 154,
   "metadata": {},
   "outputs": [],
   "source": [
    "def calculatePower(elapsedTime, meanThroughput):\n",
    "    return (meanThroughput) / elapsedTime"
   ]
  },
  {
   "cell_type": "markdown",
   "metadata": {},
   "source": [
    "# Res"
   ]
  },
  {
   "cell_type": "markdown",
   "metadata": {},
   "source": [
    "Elapsed"
   ]
  },
  {
   "cell_type": "code",
   "execution_count": 155,
   "metadata": {},
   "outputs": [
    {
     "name": "stdout",
     "output_type": "stream",
     "text": [
      "Mean elapsed Time: 35,422555555555554\n",
      "STD elapsed Time: 42,96917502533676\n"
     ]
    }
   ],
   "source": [
    "meanElapsed, stdElapsed = getValuesAndCalculateMeanAndSTD(\"elapsed\")\n",
    "print(\"Mean elapsed Time: \" + swapCommaAndDots(str(meanElapsed)))\n",
    "print(\"STD elapsed Time: \" + swapCommaAndDots(str(stdElapsed)))"
   ]
  },
  {
   "cell_type": "markdown",
   "metadata": {},
   "source": [
    "Latency"
   ]
  },
  {
   "cell_type": "code",
   "execution_count": 156,
   "metadata": {},
   "outputs": [
    {
     "name": "stdout",
     "output_type": "stream",
     "text": [
      "Mean latency Time: 4,7888222222222225\n"
     ]
    }
   ],
   "source": [
    "meanLatency,_= getValuesAndCalculateMeanAndSTD(\"Latency\")\n",
    "print(\"Mean latency Time: \" + swapCommaAndDots(str(meanLatency)))"
   ]
  },
  {
   "cell_type": "markdown",
   "metadata": {},
   "source": [
    "Throughputs"
   ]
  },
  {
   "cell_type": "code",
   "execution_count": 157,
   "metadata": {},
   "outputs": [
    {
     "name": "stdout",
     "output_type": "stream",
     "text": [
      "Mean throughputs: 50,071713333333335\n"
     ]
    }
   ],
   "source": [
    "print(\"Mean throughputs: \" + swapCommaAndDots(str(getTotalsAndCalculateMean())))"
   ]
  },
  {
   "cell_type": "code",
   "execution_count": 158,
   "metadata": {},
   "outputs": [
    {
     "name": "stdout",
     "output_type": "stream",
     "text": [
      "Total time: 299,427\n"
     ]
    }
   ],
   "source": [
    "print(\"Total time: \" + swapCommaAndDots(str(calculateDeltaTime())))"
   ]
  },
  {
   "cell_type": "markdown",
   "metadata": {},
   "source": [
    "Potenza"
   ]
  },
  {
   "cell_type": "code",
   "execution_count": 159,
   "metadata": {},
   "outputs": [
    {
     "name": "stdout",
     "output_type": "stream",
     "text": [
      "Power: 1413,5545148571375\n"
     ]
    }
   ],
   "source": [
    "meanElapsed, stdElapsed = getValuesAndCalculateMeanAndSTD(\"elapsed\")\n",
    "print(\"Power: \" + swapCommaAndDots(str(calculatePower(meanElapsed / 1000, getTotalsAndCalculateMean()))))"
   ]
  }
 ],
 "metadata": {
  "kernelspec": {
   "display_name": "Python 3.9.7 ('base')",
   "language": "python",
   "name": "python3"
  },
  "language_info": {
   "codemirror_mode": {
    "name": "ipython",
    "version": 3
   },
   "file_extension": ".py",
   "mimetype": "text/x-python",
   "name": "python",
   "nbconvert_exporter": "python",
   "pygments_lexer": "ipython3",
   "version": "3.9.7"
  },
  "orig_nbformat": 4,
  "vscode": {
   "interpreter": {
    "hash": "54319b4e9af52921e5e6e495143b81eb618c802fc9a8f73e2c8fe97abe553a2c"
   }
  }
 },
 "nbformat": 4,
 "nbformat_minor": 2
}

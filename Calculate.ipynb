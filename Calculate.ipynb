{
 "cells": [
  {
   "cell_type": "markdown",
   "metadata": {},
   "source": [
    "Importo le librerie"
   ]
  },
  {
   "cell_type": "code",
   "execution_count": 98,
   "metadata": {},
   "outputs": [],
   "source": [
    "import pandas as pd\n",
    "import numpy as np\n",
    "import statistics\n"
   ]
  },
  {
   "cell_type": "markdown",
   "metadata": {},
   "source": [
    "Importo i dati"
   ]
  },
  {
   "cell_type": "code",
   "execution_count": 99,
   "metadata": {},
   "outputs": [],
   "source": [
    "dataRep1 = pd.read_csv('/Users/francescoverolla/Desktop/UNI/ASSSC/Files/RepCTT100_1.csv')\n",
    "dataRep2 = pd.read_csv('/Users/francescoverolla/Desktop/UNI/ASSSC/Files/RepCTT100_2.csv')\n",
    "dataRep3 = pd.read_csv('/Users/francescoverolla/Desktop/UNI/ASSSC/Files/RepCTT100_3.csv')\n",
    "\n",
    "dataSim1 = pd.read_csv(\"/Users/francescoverolla/Desktop/UNI/ASSSC/Files/CTT100_1.csv\")\n",
    "dataSim2 = pd.read_csv(\"/Users/francescoverolla/Desktop/UNI/ASSSC/Files/CTT100_1.csv\")\n",
    "dataSim3 = pd.read_csv(\"/Users/francescoverolla/Desktop/UNI/ASSSC/Files/CTT100_1.csv\")"
   ]
  },
  {
   "cell_type": "markdown",
   "metadata": {},
   "source": [
    "# Funzioni:"
   ]
  },
  {
   "cell_type": "markdown",
   "metadata": {},
   "source": [
    "Prendo i valori e calcolo la media"
   ]
  },
  {
   "cell_type": "code",
   "execution_count": 100,
   "metadata": {},
   "outputs": [],
   "source": [
    "def getValuesAndCalculateMean(columnName):\n",
    "    d1 = dataRep1[columnName].tolist()\n",
    "    d2 = dataRep2[columnName].tolist()\n",
    "    d3 = dataRep3[columnName].tolist()\n",
    "    allData = np.concatenate((d1,d2,d3))\n",
    "\n",
    "    return allData.mean()"
   ]
  },
  {
   "cell_type": "markdown",
   "metadata": {},
   "source": [
    "Cambio le virgole con i punti per fare il cast a float"
   ]
  },
  {
   "cell_type": "code",
   "execution_count": 101,
   "metadata": {},
   "outputs": [],
   "source": [
    "def swapCommaAndDots(str1):\n",
    "    str1 = str1.replace(',', '___')\n",
    "    str1 = str1.replace('.', ', ')\n",
    "    str1 = str1.replace('___', '.')\n",
    "    return str1"
   ]
  },
  {
   "cell_type": "markdown",
   "metadata": {},
   "source": [
    "Prendo i totati dai risultati e ne calcolo le medie"
   ]
  },
  {
   "cell_type": "code",
   "execution_count": 102,
   "metadata": {},
   "outputs": [],
   "source": [
    "def getTotalsAndCalculateMean():\n",
    "    t1 = float(swapCommaAndDots(dataSim1.iloc[9, 7]))\n",
    "    t2 = float(swapCommaAndDots(dataSim2.iloc[9, 7]))\n",
    "    t3 = float(swapCommaAndDots(dataSim3.iloc[9, 7]))\n",
    "    throughputs = [t1, t2, t3]\n",
    "    return statistics.mean(throughputs)"
   ]
  },
  {
   "cell_type": "code",
   "execution_count": 103,
   "metadata": {},
   "outputs": [],
   "source": [
    "def getTotalsAndCalculateMean():\n",
    "    t1 = float(swapCommaAndDots(dataSim1.iloc[9, 7]))\n",
    "    t2 = float(swapCommaAndDots(dataSim2.iloc[9, 7]))\n",
    "    t3 = float(swapCommaAndDots(dataSim3.iloc[9, 7]))\n",
    "    throughputs = [t1, t2, t3]\n",
    "    return statistics.mean(throughputs)"
   ]
  },
  {
   "cell_type": "markdown",
   "metadata": {},
   "source": [
    "# Res"
   ]
  },
  {
   "cell_type": "markdown",
   "metadata": {},
   "source": [
    "Elapsed"
   ]
  },
  {
   "cell_type": "code",
   "execution_count": 104,
   "metadata": {},
   "outputs": [
    {
     "name": "stdout",
     "output_type": "stream",
     "text": [
      "Mean elapsed Time: 156.89910442291395\n"
     ]
    }
   ],
   "source": [
    "meanElapsed = getValuesAndCalculateMean(\"elapsed\")\n",
    "print(\"Mean elapsed Time: \" + str(meanElapsed))"
   ]
  },
  {
   "cell_type": "markdown",
   "metadata": {},
   "source": [
    "Latency"
   ]
  },
  {
   "cell_type": "code",
   "execution_count": 105,
   "metadata": {},
   "outputs": [
    {
     "name": "stdout",
     "output_type": "stream",
     "text": [
      "Mean latency Time: 11.833413500080166\n"
     ]
    }
   ],
   "source": [
    "meanElapsed = getValuesAndCalculateMean(\"Latency\")\n",
    "print(\"Mean latency Time: \" + str(meanElapsed))"
   ]
  },
  {
   "cell_type": "markdown",
   "metadata": {},
   "source": [
    "Throughputs"
   ]
  },
  {
   "cell_type": "code",
   "execution_count": 106,
   "metadata": {},
   "outputs": [
    {
     "name": "stdout",
     "output_type": "stream",
     "text": [
      "Mean throughputs: 49.01363\n"
     ]
    }
   ],
   "source": [
    "print(\"Mean throughputs: \" + str(getTotalsAndCalculateMean()))"
   ]
  }
 ],
 "metadata": {
  "kernelspec": {
   "display_name": "Python 3.9.7 ('base')",
   "language": "python",
   "name": "python3"
  },
  "language_info": {
   "codemirror_mode": {
    "name": "ipython",
    "version": 3
   },
   "file_extension": ".py",
   "mimetype": "text/x-python",
   "name": "python",
   "nbconvert_exporter": "python",
   "pygments_lexer": "ipython3",
   "version": "3.9.7"
  },
  "orig_nbformat": 4,
  "vscode": {
   "interpreter": {
    "hash": "54319b4e9af52921e5e6e495143b81eb618c802fc9a8f73e2c8fe97abe553a2c"
   }
  }
 },
 "nbformat": 4,
 "nbformat_minor": 2
}
